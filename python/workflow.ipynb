{
 "cells": [
  {
   "cell_type": "code",
   "execution_count": 1,
   "id": "champion-proportion",
   "metadata": {},
   "outputs": [],
   "source": [
    "from hamiltonian import Hamiltonian\n",
    "\n",
    "# 4 qubits\n",
    "h2_jw_4 = Hamiltonian('H2_STO3g_4qubits', 'jw')\n",
    "h2_parity_4 = Hamiltonian('H2_STO3g_4qubits', 'parity')\n",
    "h2_bk_4 = Hamiltonian('H2_STO3g_4qubits', 'bk')\n",
    "\n",
    "# 8 qubits\n",
    "h2_jw = Hamiltonian('H2_6-31G_8qubits', 'jw')\n",
    "h2_parity = Hamiltonian('H2_6-31G_8qubits', 'parity')\n",
    "h2_bk = Hamiltonian('H2_6-31G_8qubits', 'bk')\n",
    "\n",
    "# 12 qubits\n",
    "lih_jw = Hamiltonian('LiH_STO3g_12qubits', 'jw')\n",
    "lih_parity = Hamiltonian('LiH_STO3g_12qubits', 'parity')\n",
    "lih_bk = Hamiltonian('LiH_STO3g_12qubits', 'bk')"
   ]
  },
  {
   "cell_type": "code",
   "execution_count": 3,
   "id": "colonial-punch",
   "metadata": {},
   "outputs": [],
   "source": [
    "ham = h2_jw"
   ]
  },
  {
   "cell_type": "code",
   "execution_count": 4,
   "id": "continuous-audience",
   "metadata": {},
   "outputs": [],
   "source": [
    "H = ham.SummedOp()\n",
    "ground_energy, ground_state = ham.ground()"
   ]
  },
  {
   "cell_type": "code",
   "execution_count": 37,
   "id": "handled-colleague",
   "metadata": {},
   "outputs": [],
   "source": [
    "import numpy as np\n",
    "from qiskit.aqua.operators import PauliOp, SummedOp\n",
    "\n",
    "def generateBasis(H: SummedOp) -> str:\n",
    "    n = H.num_qubits\n",
    "    qubits_shift = list(np.random.choice(range(n), size=n, replace=False))\n",
    "    bases_shift = []\n",
    "    for j in range(n):\n",
    "        basisSingle = generateBasisSingle(j, qubits_shift, bases_shift, H)\n",
    "        bases_shift.append(basisSingle)\n",
    "    B = '' # measurement basis\n",
    "    for i in range(n):\n",
    "        j = qubits_shift.index(i)\n",
    "        B = B + bases_shift[j]\n",
    "    return B\n",
    "\n",
    "def generateBasisSingle(j: int, qubits_shift: list, bases_shift: list, H: SummedOp) -> str:\n",
    "    assert len(bases_shift) == j\n",
    "    beta = generateBeta(j, qubits_shift, bases_shift, H)\n",
    "    basis = np.random.choice(['X', 'Y', 'Z'], p=beta)\n",
    "    return basis\n",
    "\n",
    "def generateBeta(j, qubits_shift, bases_shift, H):\n",
    "    constants = [0.0, 0.0, 0.0]\n",
    "    p2index = {'X': 0, 'Y': 1, 'Z': 2}\n",
    "    for x in H:\n",
    "        coeff, pauli = x.coeff, str(x.primitive)\n",
    "        if isCompatible(pauli, j, qubits_shift, bases_shift):\n",
    "            p = pauli[qubits_shift[j]]\n",
    "            index = p2index[p]\n",
    "            constants[index] += coeff**2\n",
    "    beta_unnormalized = np.sqrt(constants)\n",
    "    beta = beta_unnormalized / np.sum(beta_unnormalized)\n",
    "    return beta\n",
    "\n",
    "def isCompatible(pauli, j, qubits_shift, bases_shift):\n",
    "    if pauli[qubits_shift[j]] == 'I':\n",
    "        return False\n",
    "    for k in range(j):\n",
    "        i = qubits_shift[k]\n",
    "        if not pauli[i] in ('I', bases_shift[k]):\n",
    "            return False\n",
    "    return True\n",
    "\n",
    "def precomputePauliFrequencies(H: SummedOp, M: int) -> dict:\n",
    "    out = {}\n",
    "    for x in H:\n",
    "        coeff, P = x.coeff, str(x.primitive)\n",
    "        out[P] = 0\n",
    "    for i in range(M):\n",
    "        B = generateBasis(H)\n",
    "        for x in H:\n",
    "            coeff, P = x.coeff, str(x.primitive)\n",
    "            if all([P[j]==B[j] or P[j]=='I' for j in range(len(P))]):\n",
    "                out[P] += 1\n",
    "    return out\n",
    "\n",
    "def updateHamiltonian(H: SummedOp, MPs: dict, B: str) -> SummedOp:\n",
    "    MPs_new = {}\n",
    "    scaleFactors = []\n",
    "    \n",
    "    for x in H:\n",
    "        coeff, P = x.coeff, str(x.primitive)\n",
    "        if all([P[j]==B[j] or P[j]=='I' for j in range(len(P))]):\n",
    "            MPs_new[P] = MPs[P]-1\n",
    "            if MPs[P] > 1:\n",
    "                scaleFactors.append((MPs[P]-1)/MPs[P])\n",
    "            else:\n",
    "                scaleFactors.append(0)\n",
    "        else:\n",
    "            MPs_new[P] = MPs[P]\n",
    "            scaleFactors.append(1)\n",
    "            \n",
    "    return SummedOp([H[i].mul(scaleFactors[i]) for i in range(len(H))]), MPs_new"
   ]
  },
  {
   "cell_type": "code",
   "execution_count": 41,
   "id": "legislative-screw",
   "metadata": {},
   "outputs": [
    {
     "name": "stdout",
     "output_type": "stream",
     "text": [
      "{'YZYIIIII': 18, 'XZXIIIII': 28, 'IIIIIIII': 1000, 'ZIIIIIII': 779, 'IIZIIIII': 865, 'IZIIIIII': 855, 'IYZYIIII': 11, 'IXZXIIII': 9, 'IIIZIIII': 892, 'IIIIZIII': 789, 'IIIIYZYI': 21, 'IIIIXZXI': 29, 'IIIIIZII': 840, 'IIIIIYZY': 9, 'IIIIIXZX': 5, 'IIIIIIZI': 834, 'IIIIIIIZ': 909, 'IYIYIIII': 11, 'IXIXIIII': 9, 'XIXIIIII': 29, 'YIYIIIII': 18, 'YZYIIZII': 13, 'XZXIIZII': 23, 'XXXXIIII': 0, 'YXXYIIII': 0, 'XXYYIIII': 0, 'YYXXIIII': 0, 'XYYXIIII': 0, 'YYYYIIII': 0, 'YYIIIXXI': 0, 'YYIIIYYI': 0, 'XXIIIXXI': 0, 'XXIIIYYI': 0, 'ZIIZIIII': 701, 'YZZYIXXI': 0, 'YZZYIYYI': 0, 'XZZXIXXI': 0, 'XZZXIYYI': 0, 'ZYZYIIII': 8, 'ZXZXIIII': 7, 'ZIIIIXZX': 4, 'ZIIIIYZY': 8, 'YZYIIXZX': 1, 'YZYIIYZY': 0, 'XZXIIXZX': 0, 'XZXIIYZY': 1, 'ZZIIIIII': 662, 'ZIIIYZYI': 20, 'ZIIIXZXI': 24, 'YZYIYZYI': 0, 'YZYIXZXI': 1, 'XZXIYZYI': 0, 'XZXIXZXI': 1, 'ZIIIIIZI': 644, 'YZYIIIZI': 14, 'XZXIIIZI': 26, 'YYIIIIXX': 0, 'YYIIIIYY': 0, 'XXIIIIXX': 0, 'XXIIIIYY': 0, 'IZZIIIII': 726, 'YZZYIIXX': 0, 'YZZYIIYY': 0, 'XZZXIIXX': 0, 'XZZXIIYY': 0, 'YYIIYZZY': 0, 'YYIIXZZX': 0, 'XXIIYZZY': 0, 'XXIIXZZX': 0, 'YZZYYZZY': 0, 'YZZYXZZX': 0, 'XZZXYZZY': 0, 'XZZXXZZX': 0, 'ZIIIIIIZ': 705, 'YZYIIIIZ': 16, 'XZXIIIIZ': 26, 'YZYIZIII': 17, 'XZXIZIII': 21, 'YZYZIIII': 16, 'XZXZIIII': 25, 'YYIIXXII': 0, 'YYIIYYII': 0, 'XXIIXXII': 0, 'XXIIYYII': 1, 'IYZYYZYI': 0, 'IYZYXZXI': 0, 'IXZXYZYI': 1, 'IXZXXZXI': 0, 'IYYIYZZY': 0, 'IYYIXZZX': 0, 'IXXIYZZY': 0, 'IXXIXZZX': 0, 'IZIIIYZY': 7, 'IZIIIXZX': 4, 'IYZYIYZY': 0, 'IYZYIXZX': 0, 'IXZXIYZY': 0, 'IXZXIXZX': 0, 'IYYIIYYI': 0, 'IYYIIXXI': 0, 'IXXIIYYI': 0, 'IXXIIXXI': 0, 'IYYIIIYY': 0, 'IYYIIIXX': 0, 'IXXIIIYY': 0, 'IXXIIIXX': 0, 'ZIZIIIII': 694, 'IZIIIIZI': 715, 'IZIIIIIZ': 778, 'IZIZIIII': 768, 'IYYIYYII': 0, 'IYYIXXII': 0, 'IXXIYYII': 0, 'IXXIXXII': 0, 'ZIIIZIII': 614, 'IZIIIZII': 717, 'IYZYIZII': 10, 'IXZXIZII': 9, 'IZIIYZYI': 18, 'IZIIXZXI': 27, 'IZIIZIII': 671, 'IYZYZIII': 8, 'IXZXZIII': 6, 'IYZYIIZI': 9, 'IXZXIIZI': 7, 'YZZYXXII': 0, 'YZZYYYII': 0, 'XZZXXXII': 0, 'XZZXYYII': 0, 'ZIIIIZII': 654, 'IYZYIIIZ': 10, 'IXZXIIIZ': 9, 'IIZZIIII': 769, 'IIZIZIII': 684, 'IIYYXXII': 0, 'IIYYYYII': 0, 'IIXXXXII': 0, 'IIXXYYII': 0, 'IIZIXZXI': 24, 'IIZIYZYI': 20, 'IIYYXZZX': 0, 'IIYYYZZY': 0, 'IIXXXZZX': 0, 'IIXXYZZY': 0, 'IIZIIZII': 727, 'IIYYIXXI': 0, 'IIYYIYYI': 0, 'IIXXIXXI': 0, 'IIXXIYYI': 0, 'IIZIIXZX': 4, 'IIZIIYZY': 8, 'IIZIIIZI': 721, 'IIYYIIXX': 0, 'IIYYIIYY': 0, 'IIXXIIXX': 0, 'IIXXIIYY': 0, 'IIZIIIIZ': 782, 'IIIZZIII': 701, 'IIIZXZXI': 25, 'IIIZYZYI': 18, 'IIIZIZII': 756, 'IIIZIXZX': 4, 'IIIZIYZY': 9, 'IIIZIIZI': 747, 'IIIZIIIZ': 812, 'IIIIZZII': 651, 'IIIIZYZY': 8, 'IIIIZXZX': 3, 'IIIIZIZI': 680, 'IIIIZIIZ': 719, 'IIIIYIYI': 21, 'IIIIXIXI': 30, 'IIIIYYYY': 0, 'IIIIYYXX': 0, 'IIIIYXXY': 0, 'IIIIXYYX': 0, 'IIIIXXYY': 0, 'IIIIXXXX': 0, 'IIIIYZYZ': 20, 'IIIIXZXZ': 27, 'IIIIIZZI': 688, 'IIIIIZIZ': 767, 'IIIIIYIY': 10, 'IIIIIXIX': 6, 'IIIIIIZZ': 757}\n"
     ]
    }
   ],
   "source": [
    "n_shots = 1000\n",
    "\n",
    "MPs = precomputePauliFrequencies(H,n_shots)\n",
    "print(MPs)\n",
    "\n",
    "H_current = SummedOp([H[i] for i in range(len(H))])\n",
    "\n",
    "for i in range(n_shots):\n",
    "    B = generateBasis(H_current)\n",
    "    H_current, MPs = updateHamiltonian(H_current, MPs, B)"
   ]
  },
  {
   "cell_type": "code",
   "execution_count": 42,
   "id": "ad693ce0",
   "metadata": {},
   "outputs": [
    {
     "name": "stdout",
     "output_type": "stream",
     "text": [
      "{'YZYIIIII': -5, 'XZXIIIII': 0, 'IIIIIIII': 0, 'ZIIIIIII': 51, 'IIZIIIII': 59, 'IZIIIIII': 44, 'IYZYIIII': -2, 'IXZXIIII': -6, 'IIIZIIII': 56, 'IIIIZIII': 52, 'IIIIYZYI': -4, 'IIIIXZXI': -1, 'IIIIIZII': 50, 'IIIIIYZY': -2, 'IIIIIXZX': -7, 'IIIIIIZI': 63, 'IIIIIIIZ': 66, 'IYIYIIII': -5, 'IXIXIIII': -7, 'XIXIIIII': -1, 'YIYIIIII': -6, 'YZYIIZII': -5, 'XZXIIZII': 1, 'XXXXIIII': -1, 'YXXYIIII': 0, 'XXYYIIII': 0, 'YYXXIIII': 0, 'XYYXIIII': 0, 'YYYYIIII': -1, 'YYIIIXXI': -1, 'YYIIIYYI': -1, 'XXIIIXXI': -1, 'XXIIIYYI': 0, 'ZIIZIIII': 80, 'YZZYIXXI': 0, 'YZZYIYYI': 0, 'XZZXIXXI': -1, 'XZZXIYYI': 0, 'ZYZYIIII': -2, 'ZXZXIIII': -4, 'ZIIIIXZX': -4, 'ZIIIIYZY': 1, 'YZYIIXZX': 1, 'YZYIIYZY': 0, 'XZXIIXZX': 0, 'XZXIIYZY': -1, 'ZZIIIIII': 83, 'ZIIIYZYI': 2, 'ZIIIXZXI': 3, 'YZYIYZYI': 0, 'YZYIXZXI': 1, 'XZXIYZYI': -1, 'XZXIXZXI': 1, 'ZIIIIIZI': 80, 'YZYIIIZI': -5, 'XZXIIIZI': 8, 'YYIIIIXX': 0, 'YYIIIIYY': -2, 'XXIIIIXX': -1, 'XXIIIIYY': 0, 'IZZIIIII': 80, 'YZZYIIXX': 0, 'YZZYIIYY': 0, 'XZZXIIXX': 0, 'XZZXIIYY': -1, 'YYIIYZZY': 0, 'YYIIXZZX': -1, 'XXIIYZZY': 0, 'XXIIXZZX': 0, 'YZZYYZZY': 0, 'YZZYXZZX': -1, 'XZZXYZZY': 0, 'XZZXXZZX': 0, 'ZIIIIIIZ': 80, 'YZYIIIIZ': -1, 'XZXIIIIZ': 2, 'YZYIZIII': -2, 'XZXIZIII': -2, 'YZYZIIII': -2, 'XZXZIIII': 2, 'YYIIXXII': -2, 'YYIIYYII': -1, 'XXIIXXII': -1, 'XXIIYYII': 0, 'IYZYYZYI': -1, 'IYZYXZXI': 0, 'IXZXYZYI': 1, 'IXZXXZXI': -1, 'IYYIYZZY': 0, 'IYYIXZZX': -1, 'IXXIYZZY': -1, 'IXXIXZZX': 0, 'IZIIIYZY': -2, 'IZIIIXZX': -4, 'IYZYIYZY': 0, 'IYZYIXZX': -1, 'IXZXIYZY': 0, 'IXZXIXZX': 0, 'IYYIIYYI': 0, 'IYYIIXXI': -1, 'IXXIIYYI': 0, 'IXXIIXXI': 0, 'IYYIIIYY': 0, 'IYYIIIXX': 0, 'IXXIIIYY': 0, 'IXXIIIXX': -1, 'ZIZIIIII': 96, 'IZIIIIZI': 90, 'IZIIIIIZ': 82, 'IZIZIIII': 75, 'IYYIYYII': 0, 'IYYIXXII': 0, 'IXXIYYII': -1, 'IXXIXXII': 0, 'ZIIIZIII': 70, 'IZIIIZII': 70, 'IYZYIZII': 0, 'IXZXIZII': -2, 'IZIIYZYI': -4, 'IZIIXZXI': 5, 'IZIIZIII': 70, 'IYZYZIII': -2, 'IXZXZIII': -3, 'IYZYIIZI': -2, 'IXZXIIZI': -5, 'YZZYXXII': -1, 'YZZYYYII': 0, 'XZZXXXII': 0, 'XZZXYYII': -1, 'ZIIIIZII': 76, 'IYZYIIIZ': 0, 'IXZXIIIZ': -4, 'IIZZIIII': 88, 'IIZIZIII': 89, 'IIYYXXII': -1, 'IIYYYYII': 0, 'IIXXXXII': 0, 'IIXXYYII': -1, 'IIZIXZXI': 0, 'IIZIYZYI': 1, 'IIYYXZZX': -1, 'IIYYYZZY': -1, 'IIXXXZZX': -1, 'IIXXYZZY': -1, 'IIZIIZII': 95, 'IIYYIXXI': -2, 'IIYYIYYI': 0, 'IIXXIXXI': 0, 'IIXXIYYI': 0, 'IIZIIXZX': -7, 'IIZIIYZY': 0, 'IIZIIIZI': 104, 'IIYYIIXX': -1, 'IIYYIIYY': 0, 'IIXXIIXX': -1, 'IIXXIIYY': 0, 'IIZIIIIZ': 94, 'IIIZZIII': 79, 'IIIZXZXI': 3, 'IIIZYZYI': -2, 'IIIZIZII': 88, 'IIIZIXZX': -5, 'IIIZIYZY': -1, 'IIIZIIZI': 91, 'IIIZIIIZ': 95, 'IIIIZZII': 68, 'IIIIZYZY': 1, 'IIIIZXZX': -6, 'IIIIZIZI': 91, 'IIIIZIIZ': 86, 'IIIIYIYI': -14, 'IIIIXIXI': -3, 'IIIIYYYY': -4, 'IIIIYYXX': -1, 'IIIIYXXY': -1, 'IIIIXYYX': 0, 'IIIIXXYY': -1, 'IIIIXXXX': 0, 'IIIIYZYZ': -3, 'IIIIXZXZ': 0, 'IIIIIZZI': 87, 'IIIIIZIZ': 87, 'IIIIIYIY': -8, 'IIIIIXIX': -6, 'IIIIIIZZ': 111}\n"
     ]
    }
   ],
   "source": [
    "print(MPs)"
   ]
  },
  {
   "cell_type": "code",
   "execution_count": 34,
   "id": "0fd74d39",
   "metadata": {},
   "outputs": [
    {
     "name": "stdout",
     "output_type": "stream",
     "text": [
      "IIIIIIII 1.5253256224066558 1.5238002967842492\n",
      "ZIIIIIII -0.2724180193998683 -0.27205479537400185\n",
      "IIZIIIII -0.6921496164450819 -0.6913343636577496\n",
      "IZIIIIII -0.4043851244705001 -0.4039088169033971\n",
      "IIIZIIII -1.0346287559322498 -1.0334867815879536\n",
      "IIIIZIII -0.2724180193998682 -0.27207274941330306\n",
      "IIIIIZII -0.4043851244705001 -0.40390083090826\n",
      "IIIIIIZI -0.6921496164450818 -0.69132168628187\n",
      "IIIIIIIZ -1.0346287559322498 -1.0334791684256583\n",
      "ZIIZIIII 0.13095738454560127 0.13076564606163993\n",
      "ZZIIIIII 0.08831604919069061 0.0881756421172555\n",
      "ZIIIIIZI 0.1328282413043635 0.1326174028261026\n",
      "IZZIIIII 0.08647780044339264 0.08635531064106489\n",
      "ZIIIIIIZ 0.16521846395853979 0.16497260314907766\n",
      "ZIZIIIII 0.10556517226823464 0.10540301378548773\n",
      "IZIIIIZI 0.09542765898647504 0.0952921083345056\n",
      "IZIIIIIZ 0.11066162842599216 0.11051659352635128\n",
      "IZIZIIII 0.09368490275669497 0.09356494769554684\n",
      "ZIIIZIII 0.1619798167438987 0.16171029957793548\n",
      "IZIIIZII 0.09652650762551396 0.09638997791175792\n",
      "IZIIZIII 0.1084835363944962 0.10832137864203807\n",
      "ZIIIIZII 0.1084835363944962 0.10830828027754226\n",
      "IIZZIIII 0.10585039887546002 0.10571148759084656\n",
      "IIZIZIII 0.1328282413043635 0.13263058023099392\n",
      "IIZIIZII 0.09542765898647504 0.0952913337593515\n",
      "IIZIIIZI 0.1159589087829886 0.11579489335330968\n",
      "IIZIIIIZ 0.1379680988848799 0.13778703838765566\n",
      "IIIZZIII 0.16521846395853979 0.1649873891837726\n",
      "IIIZIZII 0.11066162842599216 0.11051486234054654\n",
      "IIIZIIZI 0.1379680988848799 0.13778632273351643\n",
      "IIIZIIIZ 0.18449350486670163 0.18426685436932239\n",
      "IIIIZZII 0.08831604919069061 0.08817975899132226\n",
      "IIIIZIZI 0.10556517226823464 0.10541015733098319\n",
      "IIIIZIIZ 0.13095738454560127 0.1307742273644186\n",
      "IIIIIZZI 0.08647780044339264 0.08635118580145501\n",
      "IIIIIZIZ 0.09368490275669497 0.09356179513152192\n",
      "IIIIIIZZ 0.10585039887546002 0.10570831780314398\n"
     ]
    }
   ],
   "source": [
    "for i in range(len(H)):\n",
    "    coeff, P = H[i].coeff, str(H[i].primitive)\n",
    "    if all([P[j]==B[j] or P[j]=='I' for j in range(len(P))]):\n",
    "        print(P, coeff, H_new[i].coeff)"
   ]
  },
  {
   "cell_type": "code",
   "execution_count": 8,
   "id": "ac641bd8",
   "metadata": {},
   "outputs": [
    {
     "data": {
      "text/plain": [
       "{'YZYIIIII': 0,\n",
       " 'XZXIIIII': 0,\n",
       " 'IIIIIIII': 10,\n",
       " 'ZIIIIIII': 9,\n",
       " 'IIZIIIII': 7,\n",
       " 'IZIIIIII': 10,\n",
       " 'IYZYIIII': 0,\n",
       " 'IXZXIIII': 0,\n",
       " 'IIIZIIII': 8,\n",
       " 'IIIIZIII': 7,\n",
       " 'IIIIYZYI': 0,\n",
       " 'IIIIXZXI': 0,\n",
       " 'IIIIIZII': 9,\n",
       " 'IIIIIYZY': 0,\n",
       " 'IIIIIXZX': 0,\n",
       " 'IIIIIIZI': 10,\n",
       " 'IIIIIIIZ': 9,\n",
       " 'IYIYIIII': 0,\n",
       " 'IXIXIIII': 0,\n",
       " 'XIXIIIII': 0,\n",
       " 'YIYIIIII': 0,\n",
       " 'YZYIIZII': 0,\n",
       " 'XZXIIZII': 0,\n",
       " 'XXXXIIII': 0,\n",
       " 'YXXYIIII': 0,\n",
       " 'XXYYIIII': 0,\n",
       " 'YYXXIIII': 0,\n",
       " 'XYYXIIII': 0,\n",
       " 'YYYYIIII': 0,\n",
       " 'YYIIIXXI': 0,\n",
       " 'YYIIIYYI': 0,\n",
       " 'XXIIIXXI': 0,\n",
       " 'XXIIIYYI': 0,\n",
       " 'ZIIZIIII': 7,\n",
       " 'YZZYIXXI': 0,\n",
       " 'YZZYIYYI': 0,\n",
       " 'XZZXIXXI': 0,\n",
       " 'XZZXIYYI': 0,\n",
       " 'ZYZYIIII': 0,\n",
       " 'ZXZXIIII': 0,\n",
       " 'ZIIIIXZX': 0,\n",
       " 'ZIIIIYZY': 0,\n",
       " 'YZYIIXZX': 0,\n",
       " 'YZYIIYZY': 0,\n",
       " 'XZXIIXZX': 0,\n",
       " 'XZXIIYZY': 0,\n",
       " 'ZZIIIIII': 9,\n",
       " 'ZIIIYZYI': 0,\n",
       " 'ZIIIXZXI': 0,\n",
       " 'YZYIYZYI': 0,\n",
       " 'YZYIXZXI': 0,\n",
       " 'XZXIYZYI': 0,\n",
       " 'XZXIXZXI': 0,\n",
       " 'ZIIIIIZI': 9,\n",
       " 'YZYIIIZI': 0,\n",
       " 'XZXIIIZI': 0,\n",
       " 'YYIIIIXX': 0,\n",
       " 'YYIIIIYY': 0,\n",
       " 'XXIIIIXX': 0,\n",
       " 'XXIIIIYY': 0,\n",
       " 'IZZIIIII': 7,\n",
       " 'YZZYIIXX': 0,\n",
       " 'YZZYIIYY': 0,\n",
       " 'XZZXIIXX': 0,\n",
       " 'XZZXIIYY': 0,\n",
       " 'YYIIYZZY': 0,\n",
       " 'YYIIXZZX': 0,\n",
       " 'XXIIYZZY': 0,\n",
       " 'XXIIXZZX': 0,\n",
       " 'YZZYYZZY': 0,\n",
       " 'YZZYXZZX': 0,\n",
       " 'XZZXYZZY': 0,\n",
       " 'XZZXXZZX': 0,\n",
       " 'ZIIIIIIZ': 8,\n",
       " 'YZYIIIIZ': 0,\n",
       " 'XZXIIIIZ': 0,\n",
       " 'YZYIZIII': 0,\n",
       " 'XZXIZIII': 0,\n",
       " 'YZYZIIII': 0,\n",
       " 'XZXZIIII': 0,\n",
       " 'YYIIXXII': 0,\n",
       " 'YYIIYYII': 0,\n",
       " 'XXIIXXII': 0,\n",
       " 'XXIIYYII': 0,\n",
       " 'IYZYYZYI': 0,\n",
       " 'IYZYXZXI': 0,\n",
       " 'IXZXYZYI': 0,\n",
       " 'IXZXXZXI': 0,\n",
       " 'IYYIYZZY': 0,\n",
       " 'IYYIXZZX': 0,\n",
       " 'IXXIYZZY': 0,\n",
       " 'IXXIXZZX': 0,\n",
       " 'IZIIIYZY': 0,\n",
       " 'IZIIIXZX': 0,\n",
       " 'IYZYIYZY': 0,\n",
       " 'IYZYIXZX': 0,\n",
       " 'IXZXIYZY': 0,\n",
       " 'IXZXIXZX': 0,\n",
       " 'IYYIIYYI': 0,\n",
       " 'IYYIIXXI': 0,\n",
       " 'IXXIIYYI': 0,\n",
       " 'IXXIIXXI': 0,\n",
       " 'IYYIIIYY': 0,\n",
       " 'IYYIIIXX': 0,\n",
       " 'IXXIIIYY': 0,\n",
       " 'IXXIIIXX': 0,\n",
       " 'ZIZIIIII': 7,\n",
       " 'IZIIIIZI': 10,\n",
       " 'IZIIIIIZ': 9,\n",
       " 'IZIZIIII': 8,\n",
       " 'IYYIYYII': 0,\n",
       " 'IYYIXXII': 0,\n",
       " 'IXXIYYII': 0,\n",
       " 'IXXIXXII': 0,\n",
       " 'ZIIIZIII': 6,\n",
       " 'IZIIIZII': 9,\n",
       " 'IYZYIZII': 0,\n",
       " 'IXZXIZII': 0,\n",
       " 'IZIIYZYI': 0,\n",
       " 'IZIIXZXI': 0,\n",
       " 'IZIIZIII': 7,\n",
       " 'IYZYZIII': 0,\n",
       " 'IXZXZIII': 0,\n",
       " 'IYZYIIZI': 0,\n",
       " 'IXZXIIZI': 0,\n",
       " 'YZZYXXII': 0,\n",
       " 'YZZYYYII': 0,\n",
       " 'XZZXXXII': 0,\n",
       " 'XZZXYYII': 0,\n",
       " 'ZIIIIZII': 9,\n",
       " 'IYZYIIIZ': 0,\n",
       " 'IXZXIIIZ': 0,\n",
       " 'IIZZIIII': 6,\n",
       " 'IIZIZIII': 5,\n",
       " 'IIYYXXII': 0,\n",
       " 'IIYYYYII': 0,\n",
       " 'IIXXXXII': 0,\n",
       " 'IIXXYYII': 0,\n",
       " 'IIZIXZXI': 0,\n",
       " 'IIZIYZYI': 0,\n",
       " 'IIYYXZZX': 0,\n",
       " 'IIYYYZZY': 0,\n",
       " 'IIXXXZZX': 0,\n",
       " 'IIXXYZZY': 0,\n",
       " 'IIZIIZII': 7,\n",
       " 'IIYYIXXI': 0,\n",
       " 'IIYYIYYI': 0,\n",
       " 'IIXXIXXI': 0,\n",
       " 'IIXXIYYI': 0,\n",
       " 'IIZIIXZX': 0,\n",
       " 'IIZIIYZY': 0,\n",
       " 'IIZIIIZI': 7,\n",
       " 'IIYYIIXX': 0,\n",
       " 'IIYYIIYY': 0,\n",
       " 'IIXXIIXX': 0,\n",
       " 'IIXXIIYY': 0,\n",
       " 'IIZIIIIZ': 7,\n",
       " 'IIIZZIII': 7,\n",
       " 'IIIZXZXI': 0,\n",
       " 'IIIZYZYI': 0,\n",
       " 'IIIZIZII': 7,\n",
       " 'IIIZIXZX': 0,\n",
       " 'IIIZIYZY': 0,\n",
       " 'IIIZIIZI': 8,\n",
       " 'IIIZIIIZ': 7,\n",
       " 'IIIIZZII': 6,\n",
       " 'IIIIZYZY': 0,\n",
       " 'IIIIZXZX': 0,\n",
       " 'IIIIZIZI': 7,\n",
       " 'IIIIZIIZ': 6,\n",
       " 'IIIIYIYI': 0,\n",
       " 'IIIIXIXI': 0,\n",
       " 'IIIIYYYY': 0,\n",
       " 'IIIIYYXX': 0,\n",
       " 'IIIIYXXY': 0,\n",
       " 'IIIIXYYX': 0,\n",
       " 'IIIIXXYY': 0,\n",
       " 'IIIIXXXX': 0,\n",
       " 'IIIIYZYZ': 0,\n",
       " 'IIIIXZXZ': 0,\n",
       " 'IIIIIZZI': 9,\n",
       " 'IIIIIZIZ': 8,\n",
       " 'IIIIIYIY': 0,\n",
       " 'IIIIIXIX': 0,\n",
       " 'IIIIIIZZ': 9}"
      ]
     },
     "execution_count": 8,
     "metadata": {},
     "output_type": "execute_result"
    }
   ],
   "source": [
    "MPs = precomputePauliFrequencies(H,10)\n",
    "MPs"
   ]
  },
  {
   "cell_type": "markdown",
   "id": "compound-dragon",
   "metadata": {},
   "source": [
    "# Measure Hamiltonian in basis"
   ]
  },
  {
   "cell_type": "code",
   "execution_count": 6,
   "id": "fossil-costume",
   "metadata": {},
   "outputs": [],
   "source": [
    "from qiskit import QuantumCircuit, execute\n",
    "from qiskit import Aer\n",
    "simulator = Aer.get_backend('qasm_simulator')"
   ]
  },
  {
   "cell_type": "code",
   "execution_count": 7,
   "id": "opponent-driving",
   "metadata": {},
   "outputs": [],
   "source": [
    "def runAndMeasure(state, basis):\n",
    "    n = len(basis)\n",
    "    circ = QuantumCircuit(n, n)\n",
    "    circ.initialize(state, range(n))\n",
    "\n",
    "    circ = circ.compose(measurementCircuit(basis))\n",
    "\n",
    "    # run experiment\n",
    "    result = execute(circ, simulator, shots=1).result()\n",
    "    counts = result.get_counts(circ)\n",
    "    # counts is a dictionary with only one entry (since shots=1)\n",
    "    bitString = counts.popitem()[0]  # physics ordering\n",
    "    \n",
    "    # return +/- evalues\n",
    "    evalues = [(-1)**int(bit) for bit in bitString]\n",
    "    return evalues\n",
    "\n",
    "def measurementCircuit(basis: str):\n",
    "    n = len(basis)\n",
    "    circ = QuantumCircuit(n, n)\n",
    "    # qiskit ordering\n",
    "    for qubit, pauli in enumerate(basis[::-1]):\n",
    "        circ = measurementPauli(circ, pauli, qubit)\n",
    "    return circ\n",
    "\n",
    "\n",
    "def measurementPauli(circ, pauli, qubit):\n",
    "    '''\n",
    "    modify circuit by appending measurement.\n",
    "    return modified circuit\n",
    "    '''\n",
    "    if pauli == 'X':\n",
    "        circ.h(qubit)\n",
    "    elif pauli == 'Y':\n",
    "        circ.sdg(qubit)\n",
    "        circ.h(qubit)\n",
    "    elif pauli == 'Z':\n",
    "        pass\n",
    "    circ.measure(qubit, qubit)\n",
    "    return circ"
   ]
  },
  {
   "cell_type": "code",
   "execution_count": 8,
   "id": "complex-subscriber",
   "metadata": {},
   "outputs": [
    {
     "data": {
      "text/plain": [
       "[-1, -1, 1, 1, 1, 1, 1, 1]"
      ]
     },
     "execution_count": 8,
     "metadata": {},
     "output_type": "execute_result"
    }
   ],
   "source": [
    "evalues = runAndMeasure(ground_state, basis)\n",
    "evalues"
   ]
  },
  {
   "cell_type": "markdown",
   "id": "temporal-faith",
   "metadata": {},
   "source": [
    "# Accumulate data"
   ]
  },
  {
   "cell_type": "code",
   "execution_count": 9,
   "id": "prescription-ontario",
   "metadata": {},
   "outputs": [],
   "source": [
    "def buildPauliEstimates(H):\n",
    "    pauliEstimates = {}\n",
    "    # key = Pauli appearing in H\n",
    "    # value = dict where\n",
    "        # number = number of times a basis has allowed Pauli to be estimated\n",
    "        # running = list of running best estimates of Pauli value\n",
    "    for x in H:\n",
    "        pauli = str(x.primitive)\n",
    "        pauliEstimates[pauli] = {'number': 0, 'running': [0.0]}\n",
    "    return pauliEstimates\n",
    "        \n",
    "def isEstimatible(pauli, basis):\n",
    "    for qubit in range(len(basis)):\n",
    "        if not pauli[qubit] in ('I', basis[qubit]):\n",
    "            return False\n",
    "    return True\n",
    "\n",
    "def estimate(pauli, evalues):\n",
    "    est = 1.0\n",
    "    for qubit, p in enumerate(pauli):\n",
    "        if p != 'I':\n",
    "            est *= evalues[qubit]\n",
    "    return est\n",
    "\n",
    "def updatePauliEstimates(pauliEstimates, evalues, basis):\n",
    "    for x in H:\n",
    "        pauli = str(x.primitive)\n",
    "        lastEstimate = pauliEstimates[pauli]['running'][-1]\n",
    "        if isEstimatible(pauli, basis):\n",
    "            est = estimate(pauli, evalues)\n",
    "            n = pauliEstimates[pauli]['number']\n",
    "            newEstimate = 1/(n+1) * (n * lastEstimate + est)\n",
    "            pauliEstimates[pauli]['number'] += 1\n",
    "            pauliEstimates[pauli]['running'].append(newEstimate)\n",
    "        else:\n",
    "            pauliEstimates[pauli]['running'].append(lastEstimate)\n",
    "    pass"
   ]
  },
  {
   "cell_type": "code",
   "execution_count": 10,
   "id": "constant-orientation",
   "metadata": {},
   "outputs": [],
   "source": [
    "#def energyEstimates(H, pauliEstimates):\n",
    "#    energies = [0.0]\n",
    "#    for x in H:\n",
    "#        coeff, pauli = x.coeff, str(x.primitive)\n",
    "#        energy += 0"
   ]
  },
  {
   "cell_type": "markdown",
   "id": "republican-miracle",
   "metadata": {},
   "source": [
    "# Simulation"
   ]
  },
  {
   "cell_type": "code",
   "execution_count": 11,
   "id": "vocal-framing",
   "metadata": {},
   "outputs": [],
   "source": [
    "ham = h2_jw\n",
    "H = ham.SummedOp()"
   ]
  },
  {
   "cell_type": "code",
   "execution_count": 12,
   "id": "medical-diabetes",
   "metadata": {},
   "outputs": [
    {
     "name": "stdout",
     "output_type": "stream",
     "text": [
      "CPU times: user 139 ms, sys: 11.1 ms, total: 150 ms\n",
      "Wall time: 108 ms\n"
     ]
    }
   ],
   "source": [
    "%%time\n",
    "ground_energy, ground_state = ham.ground(sparse=True)"
   ]
  },
  {
   "cell_type": "code",
   "execution_count": 13,
   "id": "burning-plant",
   "metadata": {},
   "outputs": [],
   "source": [
    "pauliEstimates = buildPauliEstimates(H)"
   ]
  },
  {
   "cell_type": "code",
   "execution_count": 14,
   "id": "preliminary-protein",
   "metadata": {},
   "outputs": [],
   "source": [
    "n_shots = 1000"
   ]
  },
  {
   "cell_type": "code",
   "execution_count": 15,
   "id": "biological-saturday",
   "metadata": {},
   "outputs": [
    {
     "name": "stdout",
     "output_type": "stream",
     "text": [
      "CPU times: user 22.6 s, sys: 1.63 s, total: 24.2 s\n",
      "Wall time: 24 s\n"
     ]
    }
   ],
   "source": [
    "%%time\n",
    "for shot in range(n_shots):\n",
    "    basis = generateBasis(H)\n",
    "    evalues = runAndMeasure(ground_state, basis)\n",
    "    updatePauliEstimates(pauliEstimates, evalues, basis)"
   ]
  },
  {
   "cell_type": "code",
   "execution_count": 16,
   "id": "palestinian-connectivity",
   "metadata": {},
   "outputs": [],
   "source": [
    "energyEstimates = [0.0]\n",
    "for shot in range(n_shots):\n",
    "    energyRunning = 0.0\n",
    "    for x in H:\n",
    "        coeff, pauli = x.coeff, str(x.primitive)\n",
    "        energyRunning += coeff * pauliEstimates[pauli]['running'][shot+1]\n",
    "    energyEstimates.append(energyRunning)"
   ]
  },
  {
   "cell_type": "code",
   "execution_count": 17,
   "id": "ethical-syria",
   "metadata": {},
   "outputs": [
    {
     "name": "stdout",
     "output_type": "stream",
     "text": [
      "true       : -1.8608605555207562\n",
      "estimate   : -1.8138562412496944\n",
      "difference : 0.04700431427106189\n"
     ]
    }
   ],
   "source": [
    "print('true       :', ground_energy)\n",
    "print('estimate   :', energyEstimates[-1])\n",
    "print('difference :', energyEstimates[-1] - ground_energy)"
   ]
  },
  {
   "cell_type": "code",
   "execution_count": null,
   "id": "gentle-decision",
   "metadata": {},
   "outputs": [],
   "source": []
  },
  {
   "cell_type": "code",
   "execution_count": null,
   "id": "demographic-cowboy",
   "metadata": {},
   "outputs": [],
   "source": []
  },
  {
   "cell_type": "code",
   "execution_count": null,
   "id": "solar-annex",
   "metadata": {},
   "outputs": [],
   "source": []
  },
  {
   "cell_type": "markdown",
   "id": "legislative-trailer",
   "metadata": {},
   "source": [
    "# TEST"
   ]
  },
  {
   "cell_type": "code",
   "execution_count": 18,
   "id": "special-honduras",
   "metadata": {},
   "outputs": [],
   "source": [
    "from qiskit.quantum_info import Pauli\n",
    "from qiskit.opflow import PauliOp, SummedOp"
   ]
  },
  {
   "cell_type": "code",
   "execution_count": 19,
   "id": "ultimate-stadium",
   "metadata": {},
   "outputs": [],
   "source": [
    "def testSummedOp(dictionary):\n",
    "    paulis = []\n",
    "    for P, coeff_P in dictionary.items():\n",
    "        paulis.append(coeff_P * PauliOp(Pauli.from_label(P)))\n",
    "    return SummedOp(paulis)\n",
    "\n",
    "def testGround(SummedOp):\n",
    "    mat = SummedOp.to_matrix()\n",
    "    evalues, evectors = np.linalg.eigh(mat)\n",
    "    index = np.argmin(evalues)\n",
    "    ground_energy = evalues[index]\n",
    "    ground_state = evectors[:,index]\n",
    "    return ground_energy, ground_state"
   ]
  },
  {
   "cell_type": "code",
   "execution_count": 20,
   "id": "serial-ownership",
   "metadata": {},
   "outputs": [],
   "source": [
    "dictionary = {'ZII': -1, 'IZI': -1, 'IIX': 1}\n",
    "\n",
    "H = testSummedOp(dictionary)\n",
    "ground_energy, ground_state = testGround(H)"
   ]
  },
  {
   "cell_type": "code",
   "execution_count": 21,
   "id": "congressional-aspect",
   "metadata": {},
   "outputs": [],
   "source": [
    "basis = generateBasis(H)\n",
    "#print(basis)"
   ]
  },
  {
   "cell_type": "code",
   "execution_count": 22,
   "id": "delayed-cornwall",
   "metadata": {},
   "outputs": [
    {
     "data": {
      "text/html": [
       "<pre style=\"word-wrap: normal;white-space: pre;background: #fff0;line-height: 1.1;font-family: &quot;Courier New&quot;,Courier,monospace\">     ┌───────────────────────────────────────────┐\n",
       "q_0: ┤0                                          ├\n",
       "     │                                           │\n",
       "q_1: ┤1 initialize(0.70711,-0.70711,0,0,0,0,0,0) ├\n",
       "     │                                           │\n",
       "q_2: ┤2                                          ├\n",
       "     └───────────────────────────────────────────┘\n",
       "c: 3/═════════════════════════════════════════════\n",
       "                                                  </pre>"
      ],
      "text/plain": [
       "     ┌───────────────────────────────────────────┐\n",
       "q_0: ┤0                                          ├\n",
       "     │                                           │\n",
       "q_1: ┤1 initialize(0.70711,-0.70711,0,0,0,0,0,0) ├\n",
       "     │                                           │\n",
       "q_2: ┤2                                          ├\n",
       "     └───────────────────────────────────────────┘\n",
       "c: 3/═════════════════════════════════════════════\n",
       "                                                  "
      ]
     },
     "execution_count": 22,
     "metadata": {},
     "output_type": "execute_result"
    }
   ],
   "source": [
    "n = 3\n",
    "circ = QuantumCircuit(n, n)\n",
    "circ.initialize(ground_state, range(n))\n",
    "circ.draw()"
   ]
  },
  {
   "cell_type": "code",
   "execution_count": 23,
   "id": "phantom-tampa",
   "metadata": {},
   "outputs": [
    {
     "data": {
      "text/html": [
       "<pre style=\"word-wrap: normal;white-space: pre;background: #fff0;line-height: 1.1;font-family: &quot;Courier New&quot;,Courier,monospace\">     ┌───┐   ┌─┐\n",
       "q_0: ┤ H ├───┤M├\n",
       "     └┬─┬┘   └╥┘\n",
       "q_1: ─┤M├─────╫─\n",
       "      └╥┘ ┌─┐ ║ \n",
       "q_2: ──╫──┤M├─╫─\n",
       "       ║  └╥┘ ║ \n",
       "c: 3/══╩═══╩══╩═\n",
       "       1   2  0 </pre>"
      ],
      "text/plain": [
       "     ┌───┐   ┌─┐\n",
       "q_0: ┤ H ├───┤M├\n",
       "     └┬─┬┘   └╥┘\n",
       "q_1: ─┤M├─────╫─\n",
       "      └╥┘ ┌─┐ ║ \n",
       "q_2: ──╫──┤M├─╫─\n",
       "       ║  └╥┘ ║ \n",
       "c: 3/══╩═══╩══╩═\n",
       "       1   2  0 "
      ]
     },
     "execution_count": 23,
     "metadata": {},
     "output_type": "execute_result"
    }
   ],
   "source": [
    "measurementCircuit(basis).draw()"
   ]
  },
  {
   "cell_type": "code",
   "execution_count": 24,
   "id": "hundred-element",
   "metadata": {},
   "outputs": [
    {
     "data": {
      "text/html": [
       "<pre style=\"word-wrap: normal;white-space: pre;background: #fff0;line-height: 1.1;font-family: &quot;Courier New&quot;,Courier,monospace\">     ┌───────────────────────────────────────────┐┌───┐   ┌─┐\n",
       "q_0: ┤0                                          ├┤ H ├───┤M├\n",
       "     │                                           │└┬─┬┘   └╥┘\n",
       "q_1: ┤1 initialize(0.70711,-0.70711,0,0,0,0,0,0) ├─┤M├─────╫─\n",
       "     │                                           │ └╥┘ ┌─┐ ║ \n",
       "q_2: ┤2                                          ├──╫──┤M├─╫─\n",
       "     └───────────────────────────────────────────┘  ║  └╥┘ ║ \n",
       "c: 3/═══════════════════════════════════════════════╩═══╩══╩═\n",
       "                                                    1   2  0 </pre>"
      ],
      "text/plain": [
       "     ┌───────────────────────────────────────────┐┌───┐   ┌─┐\n",
       "q_0: ┤0                                          ├┤ H ├───┤M├\n",
       "     │                                           │└┬─┬┘   └╥┘\n",
       "q_1: ┤1 initialize(0.70711,-0.70711,0,0,0,0,0,0) ├─┤M├─────╫─\n",
       "     │                                           │ └╥┘ ┌─┐ ║ \n",
       "q_2: ┤2                                          ├──╫──┤M├─╫─\n",
       "     └───────────────────────────────────────────┘  ║  └╥┘ ║ \n",
       "c: 3/═══════════════════════════════════════════════╩═══╩══╩═\n",
       "                                                    1   2  0 "
      ]
     },
     "execution_count": 24,
     "metadata": {},
     "output_type": "execute_result"
    }
   ],
   "source": [
    "circ = circ.compose(measurementCircuit(basis))\n",
    "circ.draw()"
   ]
  },
  {
   "cell_type": "code",
   "execution_count": 25,
   "id": "genuine-effects",
   "metadata": {},
   "outputs": [],
   "source": [
    "result = execute(circ, simulator, shots=1).result()\n",
    "counts = result.get_counts(circ)\n",
    "# counts is a dictionary with only one entry (since shots=1)\n",
    "bitString = counts.popitem()[0]\n",
    "#bitString"
   ]
  }
 ],
 "metadata": {
  "kernelspec": {
   "display_name": "Python 3",
   "language": "python",
   "name": "python3"
  },
  "language_info": {
   "codemirror_mode": {
    "name": "ipython",
    "version": 3
   },
   "file_extension": ".py",
   "mimetype": "text/x-python",
   "name": "python",
   "nbconvert_exporter": "python",
   "pygments_lexer": "ipython3",
   "version": "3.8.8"
  }
 },
 "nbformat": 4,
 "nbformat_minor": 5
}
